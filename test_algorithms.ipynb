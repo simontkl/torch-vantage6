{
 "cells": [
  {
   "cell_type": "code",
   "execution_count": 4,
   "metadata": {},
   "outputs": [],
   "source": [
    "import torch\n",
    "import torch.nn.functional as F\n",
    "import torch.nn as nn\n",
    "\n",
    "import torch.optim as optim\n",
    "import time\n",
    "from opacus import PrivacyEngine\n",
    "from vantage6.tools.util import info, warn\n",
    "\n",
    "# Own modules\n",
    "# import v6simplemodel as sm\n",
    "# import util.parser as parser\n",
    "import parser as parser\n",
    "# import db as db"
   ]
  },
  {
   "cell_type": "code",
   "execution_count": 5,
   "metadata": {},
   "outputs": [],
   "source": [
    "# simple model \n",
    "\n",
    "class Net(nn.Module):\n",
    "    def __init__(self):\n",
    "        super(Net, self).__init__()\n",
    "        self.conv1 = nn.Conv2d(1, 32, 3, 1)\n",
    "        self.conv2 = nn.Conv2d(32, 64, 3, 1)\n",
    "        self.dropout1 = nn.Dropout(0.25)\n",
    "        self.dropout2 = nn.Dropout(0.5)\n",
    "        self.fc1 = nn.Linear(9216, 128)\n",
    "        self.fc2 = nn.Linear(128, 10)\n",
    "\n",
    "    def forward(self, x):\n",
    "        x = self.conv1(x)\n",
    "        x = F.relu(x)\n",
    "        x = self.conv2(x)\n",
    "        x = F.relu(x)\n",
    "        x = F.max_pool2d(x, 2)\n",
    "        x = self.dropout1(x)\n",
    "        x = torch.flatten(x, 1)\n",
    "        x = self.fc1(x)\n",
    "        x = F.relu(x)\n",
    "        x = self.dropout2(x)\n",
    "        x = self.fc2(x)\n",
    "        output = F.log_softmax(x, dim=1)\n",
    "        return output"
   ]
  },
  {
   "cell_type": "code",
   "execution_count": 6,
   "metadata": {
    "pycharm": {
     "name": "#%%\n"
    }
   },
   "outputs": [],
   "source": [
    "# TODO federated averaging:\n",
    "# TODO Calculate the average of the parameters and adjust global model\n",
    "# client.create_new_task sends to nodes\n",
    "# results = client.get_results(task_id=task.get(\"id\")) gets results from nodes\n",
    "\n",
    "\n",
    "# # TODO send average parameters weighted to workers like client.send\n",
    "\n",
    "# def get_parameters(client, node):\n",
    "#     \"\"\"\n",
    "#     Get parameters from nodes\n",
    "#     \"\"\"\n",
    "#\n",
    "\n",
    "\n",
    "def average_parameters_weighted(model, parameters, weights):\n",
    "    \"\"\"\n",
    "    Get parameters from nodes and calculate the average\n",
    "    :param model: torch model\n",
    "    :param parameters: parameters of model\n",
    "    :param weights:\n",
    "    :return:\n",
    "    \"\"\"\n",
    "    with torch.no_grad():\n",
    "        for param in model.parameters():\n",
    "            average = sum(x * y for x, y in zip(parameters[i], weights)) / sum(weights)\n",
    "            param.data = average\n",
    "            i = i + 1\n",
    "        return parameters\n",
    "    "
   ]
  },
  {
   "cell_type": "code",
   "execution_count": 7,
   "metadata": {
    "pycharm": {
     "name": "#%% \n"
    }
   },
   "outputs": [],
   "source": [
    "def fed_avg(args, model, optimizer, train_loader, test_loader, device):\n",
    "    \"\"\"\n",
    "    Training and testing the model on the workers concurrently using federated\n",
    "    averaging, which means calculating the average of the local model\n",
    "    parameters after a number of (local) epochs each training round.\n",
    "\n",
    "\n",
    "    Returns:\n",
    "        Returns the final model\n",
    "    \"\"\"\n",
    "\n",
    "    for epoch in range(1, args.epochs + 1):\n",
    "        # Train the model on the workers\n",
    "        model.train(args.log_interval, model, device, train_loader,\n",
    "              optimizer, epoch, round, args.local_dp)\n",
    "        # Test the model on the workers\n",
    "        model.test(model, device, test_loader)\n",
    "\n",
    "    gather_params = model.get_parameters()\n",
    "\n",
    "    model.average_parameters_weighted(gather_params)\n",
    "\n",
    "    return model"
   ]
  },
  {
   "cell_type": "code",
   "execution_count": 8,
   "metadata": {
    "pycharm": {
     "name": "#%% \n"
    }
   },
   "outputs": [],
   "source": [
    "# TODO: gather parameters which gathers all the new model parameters from the workers and broadcast after\n",
    "\n",
    "# TODO DATA !! -> send to nodes full dataset or sample and do indexing at node\n",
    "\n",
    "# ----NODE-----\n",
    "\n",
    "def RPC_initialize_training(rank, group, color, args):\n",
    "    \"\"\"\n",
    "    Initializes the model, optimizer and scheduler and shares the parameters\n",
    "    with all the workers in the group.\n",
    "\n",
    "    This should be sent from server to all nodes.\n",
    "\n",
    "    Args:\n",
    "        rank: The id of the process.\n",
    "        group: The group the process belongs to.\n",
    "        color: The color for the terminal output for this worker.\n",
    "        learning_rate: The learning rate for training.\n",
    "        cuda: Should we use CUDA?\n",
    "\n",
    "    Returns:\n",
    "        Returns the device, model, optimizer and scheduler.\n",
    "    \"\"\"\n",
    "    # Determine the device to train on\n",
    "    use_cuda = args.use_cuda and torch.cuda.is_available()\n",
    "    device = torch.device(\"cuda\" if use_cuda else \"cpu\")\n",
    "    print(\"\\033[0;{};49m Rank {} is training on {}\".format(color, rank, device))\n",
    "\n",
    "    # Initialize model and send parameters of server to all workers\n",
    "    model = sm.Net()\n",
    "    model.to(device)\n",
    "\n",
    "    # use Opacus for DP: Opacus is a library that enables training PyTorch models\n",
    "    # with differential privacy. Taken from: https://github.com/pytorch/opacus\n",
    "\n",
    "    # Intializing optimizer and scheduler\n",
    "    optimizer = optim.SGD(model.parameters(), lr=args.learning_rate)\n",
    "    if args.local_dp:\n",
    "        privacy_engine = PrivacyEngine(model, batch_size=64,\n",
    "            sample_size=60000, alphas=range(2,32), noise_multiplier=1.3,\n",
    "            max_grad_norm=1.0,)\n",
    "        privacy_engine.attach(optimizer)\n",
    "\n",
    "    return device, model, optimizer"
   ]
  },
  {
   "cell_type": "code",
   "execution_count": 9,
   "metadata": {
    "pycharm": {
     "name": "#%%\n"
    }
   },
   "outputs": [],
   "source": [
    "def RPC_train(rank, color, log_interval, model, device, train_loader, optimizer,\n",
    "    epoch, round, local_dp, delta=1e-5):\n",
    "    \"\"\"\n",
    "    Training the model on all batches.\n",
    "    Args:\n",
    "        rank: The id of the process.\n",
    "        color: The color for the terminal output for this worker.\n",
    "        log_interval: The amount of rounds before logging intermediate loss.\n",
    "        model: A model to run training on.\n",
    "        device: The device to run training on.\n",
    "        train_loader: Data loader for training data.\n",
    "        optimizer: Optimization algorithm used for training.\n",
    "        epoch: The number of the epoch the training is in.\n",
    "        round: The number of the round the training is in.\n",
    "        local_dp: Training with local DP?\n",
    "        delta: The delta value of DP to aim for (default: 1e-5).\n",
    "    \"\"\"\n",
    "    model.train()\n",
    "    for batch_idx, (data, target) in enumerate(train_loader):\n",
    "        # Calculate the loss\n",
    "        batch = (data, target)\n",
    "        loss = RPC_train_batch(model, device, batch, optimizer)\n",
    "        # Log information once every log interval\n",
    "        if batch_idx % log_interval == 0:\n",
    "            print('\\033[0;{};49m Train on Rank {}, Round {}, Epoch {} [{}/{} ({:.0f}%)]\\tLoss: {:.6f}'.format(\n",
    "                color, rank, round, epoch, batch_idx * len(batch[0]), len(train_loader.dataset),\n",
    "                100. * batch_idx / len(train_loader), loss.item()))\n",
    "\n",
    "    if local_dp:\n",
    "        epsilon, alpha = optimizer.privacy_engine.get_privacy_spent(delta)\n",
    "        print(\"\\033[0;{};49m Epsilon {}, best alpha {}\".format(color, epsilon, alpha))"
   ]
  },
  {
   "cell_type": "code",
   "execution_count": 10,
   "metadata": {
    "pycharm": {
     "name": "#%%\n"
    }
   },
   "outputs": [],
   "source": [
    "def RPC_test(rank, color, model, device, test_loader):\n",
    "    \"\"\"\n",
    "    Tests the model.\n",
    "\n",
    "    Args:\n",
    "        rank: The id of the process.\n",
    "        color: The color for the terminal output for this worker.\n",
    "        model: The model to test.\n",
    "        device: The device to test the model on.\n",
    "        test_loader: The data loader for test data.\n",
    "    \"\"\"\n",
    "    model.eval()\n",
    "    test_loss = 0\n",
    "    correct = 0\n",
    "    with torch.no_grad():\n",
    "        for data, target in test_loader:\n",
    "            # Send the data and target to the device (cpu/gpu) the model is at\n",
    "            data, target = data.to(device), target.to(device)\n",
    "            # Run the model on the data\n",
    "            output = model(data)\n",
    "            # Calculate the loss\n",
    "            test_loss += F.nll_loss(output, target, reduction='sum').item()\n",
    "            # Check whether prediction was correct\n",
    "            pred = output.argmax(dim=1, keepdim=True)\n",
    "            correct += pred.eq(target.view_as(pred)).sum().item()\n",
    "\n",
    "    test_loss /= len(test_loader.dataset)\n",
    "\n",
    "    print('\\033[0;{};49m \\nTest set on Rank {}: Average loss: {:.4f}, Accuracy: {}/{} ({:.0f}%)\\n'.format(\n",
    "        color, rank, test_loss, correct, len(test_loader.dataset),\n",
    "        100. * correct / len(test_loader.dataset)))"
   ]
  },
  {
   "cell_type": "code",
   "execution_count": 11,
   "metadata": {
    "pycharm": {
     "name": "#%%\n"
    }
   },
   "outputs": [],
   "source": [
    "def RPC_train_batch(model, device, batch, optimizer, train=True):\n",
    "    \"\"\"\n",
    "    Training the model on one batch of data.\n",
    "\n",
    "    Args:\n",
    "        model: A model to run training on.\n",
    "        device: The device to run training on.\n",
    "        batch: The batch to train the model on.\n",
    "        optimizer: Optimization algorithm used for training.\n",
    "        train: Should we update the model parameters? (default:true)\n",
    "\n",
    "    Returns:\n",
    "        The calculated loss after training.\n",
    "    \"\"\"\n",
    "    data, target = batch\n",
    "    # Send the data and target to the device (cpu/gpu) the model is at\n",
    "    data, target = data.to(device), target.to(device)\n",
    "    # Clear gradient buffers\n",
    "    optimizer.zero_grad()\n",
    "    # Run the model on the data\n",
    "    output = model(data)\n",
    "    # Calculate the loss\n",
    "    loss = F.nll_loss(output, target)\n",
    "    # Calculate the gradients\n",
    "    loss.backward()\n",
    "\n",
    "    # Update the model weights\n",
    "    if train:\n",
    "        optimizer.step()\n",
    "    return loss"
   ]
  }
 ],
 "metadata": {
  "kernelspec": {
   "display_name": "Python 3",
   "language": "python",
   "name": "python3"
  },
  "language_info": {
   "codemirror_mode": {
    "name": "ipython",
    "version": 3
   },
   "file_extension": ".py",
   "mimetype": "text/x-python",
   "name": "python",
   "nbconvert_exporter": "python",
   "pygments_lexer": "ipython3",
   "version": "3.7.10"
  }
 },
 "nbformat": 4,
 "nbformat_minor": 1
}