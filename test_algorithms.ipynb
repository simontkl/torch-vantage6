{
 "cells": [
  {
   "cell_type": "code",
   "execution_count": 4,
   "metadata": {},
   "outputs": [],
   "source": [
    "import torch\n",
    "import torch.nn.functional as F\n",
    "import torch.nn as nn\n",
    "\n",
    "import torch.optim as optim\n",
    "import time\n",
    "from opacus import PrivacyEngine\n",
    "from vantage6.tools.util import info, warn\n",
    "\n",
    "# Own modules\n",
    "import v6simplemodel as sm\n",
    "# import util.parser as parser\n",
    "import parser as parser\n",
    "# import db as db"
   ]
  },
  {
   "cell_type": "code",
   "execution_count": 5,
   "metadata": {},
   "outputs": [],
   "source": [
    "# simple model \n",
    "\n",
    "class Net(nn.Module):\n",
    "    def __init__(self):\n",
    "        super(Net, self).__init__()\n",
    "        self.conv1 = nn.Conv2d(1, 32, 3, 1)\n",
    "        self.conv2 = nn.Conv2d(32, 64, 3, 1)\n",
    "        self.dropout1 = nn.Dropout(0.25)\n",
    "        self.dropout2 = nn.Dropout(0.5)\n",
    "        self.fc1 = nn.Linear(9216, 128)\n",
    "        self.fc2 = nn.Linear(128, 10)\n",
    "\n",
    "    def forward(self, x):\n",
    "        x = self.conv1(x)\n",
    "        x = F.relu(x)\n",
    "        x = self.conv2(x)\n",
    "        x = F.relu(x)\n",
    "        x = F.max_pool2d(x, 2)\n",
    "        x = self.dropout1(x)\n",
    "        x = torch.flatten(x, 1)\n",
    "        x = self.fc1(x)\n",
    "        x = F.relu(x)\n",
    "        x = self.dropout2(x)\n",
    "        x = self.fc2(x)\n",
    "        output = F.log_softmax(x, dim=1)\n",
    "        return output\n"
   ]
  },
  {
   "cell_type": "code",
   "execution_count": 10,
   "metadata": {
    "pycharm": {
     "name": "#%% \n"
    }
   },
   "outputs": [],
   "source": [
    "# TODO: gather parameters which gathers all the new model parameters from the workers and broadcast after\n",
    "\n",
    "# TODO DATA !! -> send to nodes full dataset or sample and do indexing at node\n",
    "\n",
    "# ----NODE-----\n",
    "\n",
    "def RPC_initialize_training(data, rank, color, args):\n",
    "    \"\"\"\n",
    "    Initializes the model, optimizer and scheduler and shares the parameters\n",
    "    with all the workers in the group.\n",
    "\n",
    "    This should be sent from server to all nodes.\n",
    "\n",
    "    Args:\n",
    "        rank: The id of the process.\n",
    "        group: The group the process belongs to.\n",
    "        color: The color for the terminal output for this worker.\n",
    "        learning_rate: The learning rate for training.\n",
    "        cuda: Should we use CUDA?\n",
    "\n",
    "    Returns:\n",
    "        Returns the device, model, optimizer and scheduler.\n",
    "    \"\"\"\n",
    "    # Determine the device to train on\n",
    "    use_cuda = args.use_cuda and torch.cuda.is_available()\n",
    "    device = torch.device(\"cuda\" if use_cuda else \"cpu\")\n",
    "    print(\"\\033[0;{};49m Rank {} is training on {}\".format(color, rank, device))\n",
    "\n",
    "    # Initialize model and send parameters of server to all workers\n",
    "    model = sm.Net()\n",
    "    model.to(device)\n",
    "\n",
    "    # load data\n",
    "\n",
    "    # use Opacus for DP: Opacus is a library that enables training PyTorch models\n",
    "    # with differential privacy. Taken from: https://github.com/pytorch/opacus\n",
    "\n",
    "    # Intializing optimizer and scheduler\n",
    "    optimizer = optim.SGD(model.parameters(), lr=args.learning_rate)\n",
    "    if args.local_dp:\n",
    "        privacy_engine = PrivacyEngine(model, batch_size=64,\n",
    "            sample_size=60000, alphas=range(2,32), noise_multiplier=1.3,\n",
    "            max_grad_norm=1.0,)\n",
    "        privacy_engine.attach(optimizer)\n",
    "\n",
    "    return device, model, optimizer"
   ]
  },
  {
   "cell_type": "code",
   "execution_count": 9,
   "metadata": {
    "pycharm": {
     "name": "#%%\n"
    }
   },
   "outputs": [],
   "source": [
    "def RPC_train(data, color, model, device, train_loader, optimizer, epoch,\n",
    "    local_dp, delta=1e-5):\n",
    "    \"\"\"\n",
    "    Training the model on all batches.\n",
    "    Args:\n",
    "        rank: The id of the process.\n",
    "        color: The color for the terminal output for this worker.\n",
    "        model: A model to run training on.\n",
    "        device: The device to run training on.\n",
    "        train_loader: Data loader for training data.\n",
    "        optimizer: Optimization algorithm used for training.\n",
    "        epoch: The number of the epoch the training is in.\n",
    "        round: The number of the round the training is in.\n",
    "        local_dp: Training with local DP?\n",
    "        delta: The delta value of DP to aim for (default: 1e-5).\n",
    "    \"\"\"\n",
    "    model.train()\n",
    "\n",
    "    for i, (data, target) in enumerate(train_loader):\n",
    "        # Send the data and target to the device (cpu/gpu) the model is at (either send to the cpu or to the gpu, but the data is already on the worker node); model.send(data.location)\n",
    "        data, target = data.to(device), target.to(device)\n",
    "        # Clear gradient buffers\n",
    "        optimizer.zero_grad()\n",
    "        # Run the model on the data\n",
    "        output = model(data)\n",
    "        # Calculate the loss\n",
    "        loss = F.nll_loss(output, target)\n",
    "        # Calculate the gradients\n",
    "        loss.backward()\n",
    "        optimizer.step()\n",
    "\n",
    "\n",
    "    # Logging needed if want the same output as torch.dist\n",
    "    # print('\\033[0;{};49m Train on Rank {}, Round {}, Epoch {} [{}/{} ({:.0f}%)]\\tLoss: {:.6f}'.format(\n",
    "    #     color, rank, round, epoch, batch_idx * len(batch[0]), len(train_loader.dataset),\n",
    "    #     100. * batch_idx / len(train_loader), loss.item()))\n",
    "\n",
    "    if local_dp:\n",
    "        epsilon, alpha = optimizer.privacy_engine.get_privacy_spent(delta)\n",
    "        print(\"\\033[0;{};49m Epsilon {}, best alpha {}\".format(color, epsilon, alpha))\n"
   ]
  },
  {
   "cell_type": "code",
   "execution_count": 10,
   "metadata": {
    "pycharm": {
     "name": "#%%\n"
    }
   },
   "outputs": [],
   "source": [
    "def RPC_test(data, rank, color, model, device, test_loader):\n",
    "    \"\"\"\n",
    "    Tests the model.\n",
    "\n",
    "    Args:\n",
    "        rank: The id of the process.\n",
    "        color: The color for the terminal output for this worker.\n",
    "        model: The model to test.\n",
    "        device: The device to test the model on.\n",
    "        test_loader: The data loader for test data.\n",
    "    \"\"\"\n",
    "    model.eval()\n",
    "    test_loss = 0\n",
    "    correct = 0\n",
    "    with torch.no_grad():\n",
    "        for data, target in test_loader:\n",
    "            # Send the data and target to the device (cpu/gpu) the model is at\n",
    "            data, target = data.to(device), target.to(device)\n",
    "            # Run the model on the data\n",
    "            output = model(data)\n",
    "            # Calculate the loss\n",
    "            test_loss += F.nll_loss(output, target, reduction='sum').item()\n",
    "            # Check whether prediction was correct\n",
    "            pred = output.argmax(dim=1, keepdim=True)\n",
    "            correct += pred.eq(target.view_as(pred)).sum().item()\n",
    "\n",
    "    test_loss /= len(test_loader.dataset)\n",
    "\n",
    "    print('\\033[0;{};49m \\nTest set on Rank {}: Average loss: {:.4f}, Accuracy: {}/{} ({:.0f}%)\\n'.format(\n",
    "        color, rank, test_loss, correct, len(test_loader.dataset),\n",
    "        100. * correct / len(test_loader.dataset)))"
   ]
  },
  {
   "cell_type": "code",
   "execution_count": 11,
   "metadata": {
    "pycharm": {
     "name": "#%%\n"
    }
   },
   "outputs": [],
   "source": [
    "\n",
    "def RPC_average_parameters_weighted(data, model, parameters, weights):\n",
    "    \"\"\"\n",
    "    Get parameters from nodes and calculate the average\n",
    "    :param model: torch model\n",
    "    :param parameters: parameters of model\n",
    "    :param weights:\n",
    "    :return:\n",
    "    \"\"\"\n",
    "    with torch.no_grad():\n",
    "        for parameters in model.parameters():\n",
    "            average = sum(x * y for x, y in zip(parameters[i], weights)) / sum(weights)\n",
    "            parameters.data = average\n",
    "            i = i + 1\n",
    "        return parameters"
   ]
  },
  {
   "cell_type": "code",
   "execution_count": null,
   "metadata": {
    "pycharm": {
     "name": "#%%\n"
    }
   },
   "outputs": [],
   "source": [
    "def RPC_fed_avg(data, rank, color, args, model, optimizer, train_loader, test_loader, device):\n",
    "    \"\"\"\n",
    "    Training and testing the model on the workers concurrently using federated\n",
    "    averaging, which means calculating the average of the local model\n",
    "    parameters after a number of (local) epochs each training round.\n",
    "\n",
    "\n",
    "    Returns:\n",
    "        Returns the final model\n",
    "    \"\"\"\n",
    "    if (rank != 0):\n",
    "        for epoch in range(1, args.epochs + 1):\n",
    "            # Train the model on the workers\n",
    "            RPC_train(data, color, model, device, train_loader, optimizer, epoch, args.local_dp, delta=1e-5)\n",
    "            # Test the model on the workers\n",
    "            RPC_test(data, rank, color, model, device, test_loader)\n",
    "\n",
    "    gather_params = model.get_parameters()\n",
    "\n",
    "    model.RPC_average_parameters_weighted(gather_params)\n",
    "\n",
    "    return model\n",
    "\n",
    "    # # Gather the parameters after the training round on the server\n",
    "    #     gather_params = coor.gather_parameters(rank, model, group_size + 1, subgroup)\n",
    "    #\n",
    "    #     # If the server\n",
    "    #     if rank == 0:\n",
    "    #         # Calculate the average of the parameters and adjust global model\n",
    "    #         coor.average_parameters_weighted(model, gather_params, weights)\n",
    "    #\n",
    "    #     # Send the new model parameters to the workers\n",
    "    #     coor.broadcast_parameters(model, group)\n"
   ]
  },
  {
   "cell_type": "code",
   "execution_count": 13,
   "metadata": {},
   "outputs": [
    {
     "ename": "NameError",
     "evalue": "name 'rank' is not defined",
     "output_type": "error",
     "traceback": [
      "\u001B[0;31m---------------------------------------------------------------------------\u001B[0m",
      "\u001B[0;31mNameError\u001B[0m                                 Traceback (most recent call last)",
      "\u001B[0;32m<ipython-input-13-f8d4cf6c92f0>\u001B[0m in \u001B[0;36m<module>\u001B[0;34m\u001B[0m\n\u001B[0;32m----> 1\u001B[0;31m device, model, optimizer = RPC_initialize_training(rank,\n\u001B[0m\u001B[1;32m      2\u001B[0m             dist.group.WORLD, color, args)\n",
      "\u001B[0;31mNameError\u001B[0m: name 'rank' is not defined"
     ]
    }
   ],
   "source": [
    "device, model, optimizer = RPC_initialize_training(rank,\n",
    "            dist.group.WORLD, color, args)"
   ]
  },
  {
   "cell_type": "code",
   "execution_count": 15,
   "metadata": {},
   "outputs": [
    {
     "ename": "NameError",
     "evalue": "name 'data' is not defined",
     "output_type": "error",
     "traceback": [
      "\u001B[0;31m---------------------------------------------------------------------------\u001B[0m",
      "\u001B[0;31mNameError\u001B[0m                                 Traceback (most recent call last)",
      "\u001B[0;32m<ipython-input-15-76cc871847cd>\u001B[0m in \u001B[0;36m<module>\u001B[0;34m\u001B[0m\n\u001B[0;32m----> 1\u001B[0;31m train_loader, test_loader, data_size = data.partition_equal_all(color,\n\u001B[0m\u001B[1;32m      2\u001B[0m         args.batch_size, args.test_batch_size, transform=transform)\n",
      "\u001B[0;31mNameError\u001B[0m: name 'data' is not defined"
     ]
    }
   ],
   "source": []
  }
 ],
 "metadata": {
  "kernelspec": {
   "display_name": "Python 3",
   "language": "python",
   "name": "python3"
  },
  "language_info": {
   "codemirror_mode": {
    "name": "ipython",
    "version": 3
   },
   "file_extension": ".py",
   "mimetype": "text/x-python",
   "name": "python",
   "nbconvert_exporter": "python",
   "pygments_lexer": "ipython3",
   "version": "3.7.10"
  }
 },
 "nbformat": 4,
 "nbformat_minor": 1
}